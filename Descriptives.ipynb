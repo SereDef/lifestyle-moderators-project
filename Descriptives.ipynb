{
 "cells": [
  {
   "cell_type": "code",
   "execution_count": 2,
   "id": "17b8b7d0",
   "metadata": {},
   "outputs": [],
   "source": [
    "import pandas as pd\n",
    "import numpy as np\n",
    "\n",
    "# from datetime import datetime\n",
    "\n",
    "import warnings\n",
    "warnings.filterwarnings('ignore', message='FixedFormatter')\n",
    "\n",
    "respath = '../mDescr/'\n",
    "date = '140423'# datetime.today().strftime('%d%m%y')"
   ]
  },
  {
   "cell_type": "code",
   "execution_count": 481,
   "id": "659c30cb",
   "metadata": {},
   "outputs": [
    {
     "name": "stdout",
     "output_type": "stream",
     "text": [
      "GENR_missing_pattern, GENR_summary, GENR_s_imp_cnt, GENR_s_imp_cat, GENR_cor_imp, ALSPAC_missing_pattern, ALSPAC_s_pre_imp, ALSPAC_s_imp_cnt, ALSPAC_s_imp_cat, ALSPAC_cor_imp, "
     ]
    }
   ],
   "source": [
    "def read_res_sheets(cohort, res_file = 'Descriptives', date='140423', v=True):\n",
    "    file = '../'+cohort+'/Descriptives/'+cohort+'_'+res_file+'_'+date+'.xlsx'\n",
    "    xl = pd.ExcelFile(file)\n",
    "    for sheet in xl.sheet_names:\n",
    "        if v: print(cohort+'_'+sheet, end=', ')\n",
    "        df = xl.parse(sheet) # convert to dataframe\n",
    "        globals()[cohort+'_'+sheet] = df\n",
    "\n",
    "read_res_sheets('GENR')\n",
    "read_res_sheets('ALSPAC')"
   ]
  },
  {
   "cell_type": "code",
   "execution_count": 478,
   "id": "0a34623b",
   "metadata": {},
   "outputs": [],
   "source": [
    "ns = {'exercise':'exerc','sleep_hr':'sleep','med_diet':'mdiet', 'sleep_SR':'SRsleep',\n",
    "      'exercise_bin':'exerc_bin','sleep_hr_bin':'sleep_bin','med_diet_bin':'mdiet_bin', 'sleep_SR_bin':'SRsleep_bin',\n",
    "      'exercise_age':'exerc_age','sleep_hr_age':'sleep_age','med_diet_age':'mdiet_age',\n",
    "      'intern_score_13':'intern', 'tot_fat_percent_13':'adipos', 'risk_groups':'comorb', \n",
    "      'pre_life_events':'pre_le', 'pre_contextual_risk':'pre_cr', 'pre_parental_risk':'pre_pr', 'pre_interpersonal_risk':'pre_ir', \n",
    "      'post_life_events':'pos_le','post_contextual_risk':'pos_cr','post_parental_risk':'pos_pr','post_interpersonal_risk':'pos_ir', \n",
    "      'post_direct_victimization':'pos_dv'}"
   ]
  },
  {
   "cell_type": "code",
   "execution_count": 482,
   "id": "55bf141b",
   "metadata": {},
   "outputs": [],
   "source": [
    "def desc(sample = 'GENR_', varz=['age_child','sex','ethnicity','ELS','prenatal_stress','postnatal_stress',\n",
    "                                 'exercise','sleep_hr','med_diet',\n",
    "                                 'exercise_age','med_diet_age','sleep_hr_age',\n",
    "                                 'intern_score_13','tot_fat_percent_13','risk_groups',\n",
    "                                 'm_bmi_before_pregnancy','m_smoking','m_drinking',\n",
    "                                 'exercise_bin','sleep_hr_bin','med_diet_bin',\n",
    "                                 # 'intern_score_09','tot_fat_percent_09',\n",
    "                                 'parity','gest_age_birth','gest_weight'], \n",
    "         varz_cat=['sex','ethnicity','exercise','risk_groups','m_smoking', # 'm_drinking',\n",
    "                  'exercise_bin','sleep_hr_bin','med_diet_bin']):\n",
    "\n",
    "    def prep(df):\n",
    "        df[\"group_no\"] = df.isnull().all(axis=1).cumsum() # assign new number every empty row\n",
    "        df = df.set_index('group_no').dropna(how='all') \n",
    "        out = pd.DataFrame()\n",
    "        for i in df.index.unique():\n",
    "            name = df.loc[i,df.columns[0]].iloc[0]\n",
    "            df.rename(index={i: name}, inplace=True)\n",
    "            out = out.append(df.loc[name,].iloc[1:])\n",
    "        return(out)\n",
    "\n",
    "\n",
    "    preimp = prep(globals()[f'{sample}s_pre_imp'].copy())\n",
    "    preimp = preimp.loc[preimp.value!='SD',]\n",
    "\n",
    "    poscat = prep(globals()[f'{sample}s_imp_cat'].copy())\n",
    "    poscat.loc['comorb','row.names(v_summ)'] = ['healthy', 'high_intern','high_adipos','comorbidity']\n",
    "\n",
    "    posimp = globals()[f'{sample}s_imp_cnt'].set_index(\n",
    "        'c(\"Min\", \"1stQ\", \"Median\", \"Mean\", \"3rdQ\", \"Max\", \"SD\")').T\n",
    "    \n",
    "    missdf = globals()[f'{sample}missing_pattern'].set_index('Var name')\n",
    "\n",
    "    def mean_range(var, varpos=''):\n",
    "        prel1,prem,prel2 = preimp.loc[preimp['value'].str.contains('Min|Mean|Max', na=False),].loc[var,'sample']\n",
    "        posl1,posm,posl2 = posimp.loc[varpos][['Min','Mean','Max']]\n",
    "\n",
    "        return f'{float(prem):.2f} ({float(prel1):.2f}-{float(prel2):.2f}) \\t{float(posm):.2f} ({float(posl1):.2f}-{float(posl2):.2f})'\n",
    "    \n",
    "    def n_perc(var, varpos=''):\n",
    "        ns = preimp.loc[var,['value','sample']].set_index('value') #.drop(index='SD')\n",
    "        ns['pre']=ns['sample'].astype(str)+' ('+(ns['sample'].astype(float)/ns['sample'].astype(float).sum()*100).round(2).astype(str)+'%)'\n",
    "        ns['pos']=np.nan\n",
    "        if varpos in poscat.index:\n",
    "            ns2 = poscat.loc[varpos].set_index(poscat.columns[0])\n",
    "            ns.loc[:-1,'pos']=ns2['counts'].astype(float).astype(int).astype(str)+' ('+ns2['percent'].astype(float).round(2).astype(str)+'%)'\n",
    "        return ns\n",
    "\n",
    "    out = pd.DataFrame()\n",
    "    \n",
    "    for var in varz: \n",
    "        vp = ns[var] if var in ns.keys() else var\n",
    "        if var in varz_cat:\n",
    "            nl = n_perc(var, vp)\n",
    "            nl = nl.set_index(var+' '+nl.index.astype(str))\n",
    "        else:\n",
    "            nl = pd.DataFrame([mean_range(var, vp)], index=[var])\n",
    "            nl[['pre', 'pos']] = nl.iloc[:,0].str.split('\\t', 1, expand=True)\n",
    "            \n",
    "        nl['miss'] = missdf.loc[var, missdf.columns[1]]\n",
    "        out = pd.concat([out,nl[['pre','miss','pos']]])\n",
    "\n",
    "    return(out)\n",
    "\n"
   ]
  },
  {
   "cell_type": "code",
   "execution_count": 483,
   "id": "8688e083",
   "metadata": {},
   "outputs": [],
   "source": [
    "t = desc('ALSPAC_')\n",
    "t.to_csv('~/Desktop/T.csv')"
   ]
  }
 ],
 "metadata": {
  "kernelspec": {
   "display_name": "Python 3",
   "language": "python",
   "name": "python3"
  },
  "language_info": {
   "codemirror_mode": {
    "name": "ipython",
    "version": 3
   },
   "file_extension": ".py",
   "mimetype": "text/x-python",
   "name": "python",
   "nbconvert_exporter": "python",
   "pygments_lexer": "ipython3",
   "version": "3.9.1"
  }
 },
 "nbformat": 4,
 "nbformat_minor": 5
}
